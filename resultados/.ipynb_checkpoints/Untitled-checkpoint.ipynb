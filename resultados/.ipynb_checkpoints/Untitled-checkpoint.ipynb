{
 "cells": [
  {
   "cell_type": "code",
   "execution_count": 1,
   "id": "779a84ed",
   "metadata": {},
   "outputs": [],
   "source": [
    "import pandas as pd"
   ]
  },
  {
   "cell_type": "code",
   "execution_count": 2,
   "id": "e2ab5011",
   "metadata": {},
   "outputs": [],
   "source": [
    "df_1 = pd.read_csv('eda_new_algorithm.csv')"
   ]
  },
  {
   "cell_type": "code",
   "execution_count": 3,
   "id": "16442900",
   "metadata": {},
   "outputs": [
    {
     "data": {
      "text/html": [
       "<div>\n",
       "<style scoped>\n",
       "    .dataframe tbody tr th:only-of-type {\n",
       "        vertical-align: middle;\n",
       "    }\n",
       "\n",
       "    .dataframe tbody tr th {\n",
       "        vertical-align: top;\n",
       "    }\n",
       "\n",
       "    .dataframe thead th {\n",
       "        text-align: right;\n",
       "    }\n",
       "</style>\n",
       "<table border=\"1\" class=\"dataframe\">\n",
       "  <thead>\n",
       "    <tr style=\"text-align: right;\">\n",
       "      <th></th>\n",
       "      <th>Unnamed: 0</th>\n",
       "      <th>jobs</th>\n",
       "      <th>machines</th>\n",
       "      <th>numInd</th>\n",
       "      <th>numGen</th>\n",
       "      <th>makespan</th>\n",
       "      <th>to_matrix_percentage</th>\n",
       "      <th>elitismo</th>\n",
       "      <th>exec_time</th>\n",
       "      <th>instance</th>\n",
       "      <th>mutation</th>\n",
       "      <th>selection_method</th>\n",
       "    </tr>\n",
       "  </thead>\n",
       "  <tbody>\n",
       "    <tr>\n",
       "      <th>0</th>\n",
       "      <td>0</td>\n",
       "      <td>512</td>\n",
       "      <td>16</td>\n",
       "      <td>100</td>\n",
       "      <td>100</td>\n",
       "      <td>100067.262634</td>\n",
       "      <td>0.3</td>\n",
       "      <td>10.0</td>\n",
       "      <td>70.612655</td>\n",
       "      <td>512x16/u_s_hilo.0</td>\n",
       "      <td>0.0</td>\n",
       "      <td>roulette</td>\n",
       "    </tr>\n",
       "    <tr>\n",
       "      <th>1</th>\n",
       "      <td>1</td>\n",
       "      <td>512</td>\n",
       "      <td>16</td>\n",
       "      <td>100</td>\n",
       "      <td>100</td>\n",
       "      <td>97528.139992</td>\n",
       "      <td>0.3</td>\n",
       "      <td>10.0</td>\n",
       "      <td>69.350403</td>\n",
       "      <td>512x16/u_s_hilo.0</td>\n",
       "      <td>10.0</td>\n",
       "      <td>roulette</td>\n",
       "    </tr>\n",
       "    <tr>\n",
       "      <th>2</th>\n",
       "      <td>2</td>\n",
       "      <td>512</td>\n",
       "      <td>16</td>\n",
       "      <td>100</td>\n",
       "      <td>100</td>\n",
       "      <td>97065.860230</td>\n",
       "      <td>0.3</td>\n",
       "      <td>10.0</td>\n",
       "      <td>69.556734</td>\n",
       "      <td>512x16/u_s_hilo.0</td>\n",
       "      <td>20.0</td>\n",
       "      <td>roulette</td>\n",
       "    </tr>\n",
       "    <tr>\n",
       "      <th>3</th>\n",
       "      <td>3</td>\n",
       "      <td>512</td>\n",
       "      <td>16</td>\n",
       "      <td>100</td>\n",
       "      <td>100</td>\n",
       "      <td>96959.044921</td>\n",
       "      <td>0.3</td>\n",
       "      <td>10.0</td>\n",
       "      <td>69.240425</td>\n",
       "      <td>512x16/u_s_hilo.0</td>\n",
       "      <td>30.0</td>\n",
       "      <td>roulette</td>\n",
       "    </tr>\n",
       "    <tr>\n",
       "      <th>4</th>\n",
       "      <td>4</td>\n",
       "      <td>512</td>\n",
       "      <td>16</td>\n",
       "      <td>100</td>\n",
       "      <td>100</td>\n",
       "      <td>100067.262634</td>\n",
       "      <td>0.3</td>\n",
       "      <td>20.0</td>\n",
       "      <td>63.955572</td>\n",
       "      <td>512x16/u_s_hilo.0</td>\n",
       "      <td>0.0</td>\n",
       "      <td>roulette</td>\n",
       "    </tr>\n",
       "  </tbody>\n",
       "</table>\n",
       "</div>"
      ],
      "text/plain": [
       "   Unnamed: 0  jobs  machines  numInd  numGen       makespan  \\\n",
       "0           0   512        16     100     100  100067.262634   \n",
       "1           1   512        16     100     100   97528.139992   \n",
       "2           2   512        16     100     100   97065.860230   \n",
       "3           3   512        16     100     100   96959.044921   \n",
       "4           4   512        16     100     100  100067.262634   \n",
       "\n",
       "   to_matrix_percentage  elitismo  exec_time           instance  mutation  \\\n",
       "0                   0.3      10.0  70.612655  512x16/u_s_hilo.0       0.0   \n",
       "1                   0.3      10.0  69.350403  512x16/u_s_hilo.0      10.0   \n",
       "2                   0.3      10.0  69.556734  512x16/u_s_hilo.0      20.0   \n",
       "3                   0.3      10.0  69.240425  512x16/u_s_hilo.0      30.0   \n",
       "4                   0.3      20.0  63.955572  512x16/u_s_hilo.0       0.0   \n",
       "\n",
       "  selection_method  \n",
       "0         roulette  \n",
       "1         roulette  \n",
       "2         roulette  \n",
       "3         roulette  \n",
       "4         roulette  "
      ]
     },
     "execution_count": 3,
     "metadata": {},
     "output_type": "execute_result"
    }
   ],
   "source": [
    "df_1.head()"
   ]
  },
  {
   "cell_type": "code",
   "execution_count": 6,
   "id": "30d80dba",
   "metadata": {},
   "outputs": [
    {
     "data": {
      "text/plain": [
       "49.02251559032143"
      ]
     },
     "execution_count": 6,
     "metadata": {},
     "output_type": "execute_result"
    }
   ],
   "source": [
    "df_1[\"exec_time\"].mean()"
   ]
  },
  {
   "cell_type": "code",
   "execution_count": 9,
   "id": "4ec61c1f",
   "metadata": {},
   "outputs": [
    {
     "data": {
      "text/plain": [
       "29.73335707355553"
      ]
     },
     "execution_count": 9,
     "metadata": {},
     "output_type": "execute_result"
    }
   ],
   "source": [
    "df_2 = pd.read_csv('eda_new_algorithm_parallel_order.csv')\n",
    "df_2[\"exec_time\"].mean()"
   ]
  },
  {
   "cell_type": "code",
   "execution_count": 10,
   "id": "27eb11fe",
   "metadata": {},
   "outputs": [
    {
     "data": {
      "text/plain": [
       "28.91976133103554"
      ]
     },
     "execution_count": 10,
     "metadata": {},
     "output_type": "execute_result"
    }
   ],
   "source": [
    "df_3 = pd.read_csv('eda_new_algorithm_parallel_order_loading_before.csv')\n",
    "df_3[\"exec_time\"].mean()"
   ]
  },
  {
   "cell_type": "code",
   "execution_count": null,
   "id": "4bb61486",
   "metadata": {},
   "outputs": [],
   "source": []
  }
 ],
 "metadata": {
  "kernelspec": {
   "display_name": "Python 3 (ipykernel)",
   "language": "python",
   "name": "python3"
  },
  "language_info": {
   "codemirror_mode": {
    "name": "ipython",
    "version": 3
   },
   "file_extension": ".py",
   "mimetype": "text/x-python",
   "name": "python",
   "nbconvert_exporter": "python",
   "pygments_lexer": "ipython3",
   "version": "3.10.2"
  }
 },
 "nbformat": 4,
 "nbformat_minor": 5
}
